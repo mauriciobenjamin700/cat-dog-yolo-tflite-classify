{
 "cells": [
  {
   "cell_type": "code",
   "execution_count": 1,
   "id": "476ae72f",
   "metadata": {},
   "outputs": [],
   "source": [
    "from ultralytics import YOLO"
   ]
  },
  {
   "cell_type": "code",
   "execution_count": 2,
   "id": "bb72f88d",
   "metadata": {},
   "outputs": [],
   "source": [
    "ID = 10"
   ]
  },
  {
   "cell_type": "code",
   "execution_count": 3,
   "id": "6c4bf93e",
   "metadata": {},
   "outputs": [],
   "source": [
    "model = YOLO(f\"dist/class{ID}/weights/best.pt\")"
   ]
  },
  {
   "cell_type": "code",
   "execution_count": null,
   "id": "fdf27200",
   "metadata": {},
   "outputs": [],
   "source": [
    "model.export(format=\"tflite\")"
   ]
  }
 ],
 "metadata": {
  "kernelspec": {
   "display_name": ".venv",
   "language": "python",
   "name": "python3"
  },
  "language_info": {
   "codemirror_mode": {
    "name": "ipython",
    "version": 3
   },
   "file_extension": ".py",
   "mimetype": "text/x-python",
   "name": "python",
   "nbconvert_exporter": "python",
   "pygments_lexer": "ipython3",
   "version": "3.12.3"
  }
 },
 "nbformat": 4,
 "nbformat_minor": 5
}
